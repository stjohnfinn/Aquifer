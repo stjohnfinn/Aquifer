{
 "cells": [
  {
   "cell_type": "markdown",
   "id": "d4bec21f-23d5-41c5-9ad7-bc704fa58643",
   "metadata": {},
   "source": [
    "# K-means Clustering Implementation"
   ]
  },
  {
   "cell_type": "markdown",
   "id": "ed940f7b-6632-4e80-89fd-9361f0c2ec1c",
   "metadata": {},
   "source": [
    "Import all of the modules we're going to need..."
   ]
  },
  {
   "cell_type": "code",
   "execution_count": 1,
   "id": "7a57412c-63f1-421c-9ba5-9fb252f90e25",
   "metadata": {},
   "outputs": [],
   "source": [
    "import pandas as pd\n",
    "import numpy as np\n",
    "import matplotlib.pyplot as plt"
   ]
  },
  {
   "cell_type": "markdown",
   "id": "a166c90e-de06-487d-b78c-00fa4d494ed0",
   "metadata": {},
   "source": [
    "First, load the data and take a peek..."
   ]
  },
  {
   "cell_type": "code",
   "execution_count": 2,
   "id": "fd163b2b-f093-4486-96ed-b6aaa8d17c2e",
   "metadata": {},
   "outputs": [],
   "source": [
    "DATA_FILEPATH = './data/PSCompPars_2023.09.17_08.49.34.csv'\n",
    "\n",
    "data = pd.read_csv(DATA_FILEPATH)"
   ]
  },
  {
   "cell_type": "code",
   "execution_count": 3,
   "id": "1dc371e6-ce5c-4d37-83f3-27c4bb7627b2",
   "metadata": {},
   "outputs": [
    {
     "name": "stdout",
     "output_type": "stream",
     "text": [
      "(5514, 36)\n"
     ]
    },
    {
     "data": {
      "text/html": [
       "<div>\n",
       "<style scoped>\n",
       "    .dataframe tbody tr th:only-of-type {\n",
       "        vertical-align: middle;\n",
       "    }\n",
       "\n",
       "    .dataframe tbody tr th {\n",
       "        vertical-align: top;\n",
       "    }\n",
       "\n",
       "    .dataframe thead th {\n",
       "        text-align: right;\n",
       "    }\n",
       "</style>\n",
       "<table border=\"1\" class=\"dataframe\">\n",
       "  <thead>\n",
       "    <tr style=\"text-align: right;\">\n",
       "      <th></th>\n",
       "      <th>pl_name</th>\n",
       "      <th>hostname</th>\n",
       "      <th>sy_snum</th>\n",
       "      <th>sy_pnum</th>\n",
       "      <th>disc_facility</th>\n",
       "      <th>disc_telescope</th>\n",
       "      <th>pl_orbper</th>\n",
       "      <th>pl_orbsmax</th>\n",
       "      <th>pl_rade</th>\n",
       "      <th>pl_radj</th>\n",
       "      <th>...</th>\n",
       "      <th>rastr</th>\n",
       "      <th>ra</th>\n",
       "      <th>decstr</th>\n",
       "      <th>dec</th>\n",
       "      <th>sy_dist</th>\n",
       "      <th>sy_vmag</th>\n",
       "      <th>sy_kmag</th>\n",
       "      <th>sy_gaiamag</th>\n",
       "      <th>sy_gaiamagerr1</th>\n",
       "      <th>sy_gaiamagerr2</th>\n",
       "    </tr>\n",
       "  </thead>\n",
       "  <tbody>\n",
       "    <tr>\n",
       "      <th>0</th>\n",
       "      <td>11 Com b</td>\n",
       "      <td>11 Com</td>\n",
       "      <td>2</td>\n",
       "      <td>1</td>\n",
       "      <td>Xinglong Station</td>\n",
       "      <td>2.16 m Telescope</td>\n",
       "      <td>326.03000</td>\n",
       "      <td>1.290</td>\n",
       "      <td>12.1</td>\n",
       "      <td>1.08</td>\n",
       "      <td>...</td>\n",
       "      <td>12h20m42.91s</td>\n",
       "      <td>185.178779</td>\n",
       "      <td>+17d47m35.71s</td>\n",
       "      <td>17.793252</td>\n",
       "      <td>93.1846</td>\n",
       "      <td>4.72307</td>\n",
       "      <td>2.282</td>\n",
       "      <td>4.44038</td>\n",
       "      <td>0.003848</td>\n",
       "      <td>-0.003848</td>\n",
       "    </tr>\n",
       "    <tr>\n",
       "      <th>1</th>\n",
       "      <td>11 UMi b</td>\n",
       "      <td>11 UMi</td>\n",
       "      <td>1</td>\n",
       "      <td>1</td>\n",
       "      <td>Thueringer Landessternwarte Tautenburg</td>\n",
       "      <td>2.0 m Alfred Jensch Telescope</td>\n",
       "      <td>516.21997</td>\n",
       "      <td>1.530</td>\n",
       "      <td>12.3</td>\n",
       "      <td>1.09</td>\n",
       "      <td>...</td>\n",
       "      <td>15h17m05.90s</td>\n",
       "      <td>229.274595</td>\n",
       "      <td>+71d49m26.19s</td>\n",
       "      <td>71.823943</td>\n",
       "      <td>125.3210</td>\n",
       "      <td>5.01300</td>\n",
       "      <td>1.939</td>\n",
       "      <td>4.56216</td>\n",
       "      <td>0.003903</td>\n",
       "      <td>-0.003903</td>\n",
       "    </tr>\n",
       "    <tr>\n",
       "      <th>2</th>\n",
       "      <td>14 And b</td>\n",
       "      <td>14 And</td>\n",
       "      <td>1</td>\n",
       "      <td>1</td>\n",
       "      <td>Okayama Astrophysical Observatory</td>\n",
       "      <td>1.88 m Telescope</td>\n",
       "      <td>185.84000</td>\n",
       "      <td>0.830</td>\n",
       "      <td>12.9</td>\n",
       "      <td>1.15</td>\n",
       "      <td>...</td>\n",
       "      <td>23h31m17.80s</td>\n",
       "      <td>352.824150</td>\n",
       "      <td>+39d14m09.01s</td>\n",
       "      <td>39.235837</td>\n",
       "      <td>75.4392</td>\n",
       "      <td>5.23133</td>\n",
       "      <td>2.331</td>\n",
       "      <td>4.91781</td>\n",
       "      <td>0.002826</td>\n",
       "      <td>-0.002826</td>\n",
       "    </tr>\n",
       "    <tr>\n",
       "      <th>3</th>\n",
       "      <td>14 Her b</td>\n",
       "      <td>14 Her</td>\n",
       "      <td>1</td>\n",
       "      <td>2</td>\n",
       "      <td>W. M. Keck Observatory</td>\n",
       "      <td>10 m Keck I Telescope</td>\n",
       "      <td>1765.03890</td>\n",
       "      <td>2.774</td>\n",
       "      <td>12.6</td>\n",
       "      <td>1.12</td>\n",
       "      <td>...</td>\n",
       "      <td>16h10m24.50s</td>\n",
       "      <td>242.602101</td>\n",
       "      <td>+43d48m58.90s</td>\n",
       "      <td>43.816362</td>\n",
       "      <td>17.9323</td>\n",
       "      <td>6.61935</td>\n",
       "      <td>4.714</td>\n",
       "      <td>6.38300</td>\n",
       "      <td>0.000351</td>\n",
       "      <td>-0.000351</td>\n",
       "    </tr>\n",
       "    <tr>\n",
       "      <th>4</th>\n",
       "      <td>16 Cyg B b</td>\n",
       "      <td>16 Cyg B</td>\n",
       "      <td>3</td>\n",
       "      <td>1</td>\n",
       "      <td>Multiple Observatories</td>\n",
       "      <td>Multiple Telescopes</td>\n",
       "      <td>798.50000</td>\n",
       "      <td>1.660</td>\n",
       "      <td>13.5</td>\n",
       "      <td>1.20</td>\n",
       "      <td>...</td>\n",
       "      <td>19h41m51.75s</td>\n",
       "      <td>295.465642</td>\n",
       "      <td>+50d31m00.57s</td>\n",
       "      <td>50.516824</td>\n",
       "      <td>21.1397</td>\n",
       "      <td>6.21500</td>\n",
       "      <td>4.651</td>\n",
       "      <td>6.06428</td>\n",
       "      <td>0.000603</td>\n",
       "      <td>-0.000603</td>\n",
       "    </tr>\n",
       "  </tbody>\n",
       "</table>\n",
       "<p>5 rows × 36 columns</p>\n",
       "</div>"
      ],
      "text/plain": [
       "      pl_name  hostname  sy_snum  sy_pnum  \\\n",
       "0    11 Com b    11 Com        2        1   \n",
       "1    11 UMi b    11 UMi        1        1   \n",
       "2    14 And b    14 And        1        1   \n",
       "3    14 Her b    14 Her        1        2   \n",
       "4  16 Cyg B b  16 Cyg B        3        1   \n",
       "\n",
       "                            disc_facility                 disc_telescope  \\\n",
       "0                        Xinglong Station               2.16 m Telescope   \n",
       "1  Thueringer Landessternwarte Tautenburg  2.0 m Alfred Jensch Telescope   \n",
       "2       Okayama Astrophysical Observatory               1.88 m Telescope   \n",
       "3                  W. M. Keck Observatory          10 m Keck I Telescope   \n",
       "4                  Multiple Observatories            Multiple Telescopes   \n",
       "\n",
       "    pl_orbper  pl_orbsmax  pl_rade  pl_radj  ...         rastr          ra  \\\n",
       "0   326.03000       1.290     12.1     1.08  ...  12h20m42.91s  185.178779   \n",
       "1   516.21997       1.530     12.3     1.09  ...  15h17m05.90s  229.274595   \n",
       "2   185.84000       0.830     12.9     1.15  ...  23h31m17.80s  352.824150   \n",
       "3  1765.03890       2.774     12.6     1.12  ...  16h10m24.50s  242.602101   \n",
       "4   798.50000       1.660     13.5     1.20  ...  19h41m51.75s  295.465642   \n",
       "\n",
       "          decstr        dec   sy_dist  sy_vmag  sy_kmag  sy_gaiamag  \\\n",
       "0  +17d47m35.71s  17.793252   93.1846  4.72307    2.282     4.44038   \n",
       "1  +71d49m26.19s  71.823943  125.3210  5.01300    1.939     4.56216   \n",
       "2  +39d14m09.01s  39.235837   75.4392  5.23133    2.331     4.91781   \n",
       "3  +43d48m58.90s  43.816362   17.9323  6.61935    4.714     6.38300   \n",
       "4  +50d31m00.57s  50.516824   21.1397  6.21500    4.651     6.06428   \n",
       "\n",
       "   sy_gaiamagerr1  sy_gaiamagerr2  \n",
       "0        0.003848       -0.003848  \n",
       "1        0.003903       -0.003903  \n",
       "2        0.002826       -0.002826  \n",
       "3        0.000351       -0.000351  \n",
       "4        0.000603       -0.000603  \n",
       "\n",
       "[5 rows x 36 columns]"
      ]
     },
     "execution_count": 3,
     "metadata": {},
     "output_type": "execute_result"
    }
   ],
   "source": [
    "print(data.shape)\n",
    "\n",
    "data.head()"
   ]
  },
  {
   "cell_type": "markdown",
   "id": "08e45a16-d1b9-4956-b3d8-5535e4b393c8",
   "metadata": {},
   "source": [
    "We have 36 features to work with, which is great.\n",
    "\n",
    "More information on what each of these columns means can be found on the page linked in the README."
   ]
  },
  {
   "cell_type": "markdown",
   "id": "78049ad3-8a97-4024-949d-98d3d9b50146",
   "metadata": {},
   "source": [
    "## Data Cleaning & Formatting"
   ]
  },
  {
   "cell_type": "code",
   "execution_count": 4,
   "id": "53e678b0-caa7-4af9-95bf-9650f4116650",
   "metadata": {},
   "outputs": [
    {
     "data": {
      "text/plain": [
       "pl_name                   11 Com b\n",
       "hostname                    11 Com\n",
       "sy_snum                          2\n",
       "sy_pnum                          1\n",
       "disc_facility     Xinglong Station\n",
       "disc_telescope    2.16 m Telescope\n",
       "pl_orbper                   326.03\n",
       "pl_orbsmax                    1.29\n",
       "pl_rade                       12.1\n",
       "pl_radj                       1.08\n",
       "pl_bmasse                   6165.6\n",
       "pl_bmassj                     19.4\n",
       "pl_bmassprov                 Msini\n",
       "pl_dens                       19.1\n",
       "pl_orbeccen                  0.231\n",
       "pl_insol                       NaN\n",
       "pl_eqt                         NaN\n",
       "pl_orbincl                     NaN\n",
       "ttv_flag                         0\n",
       "pl_imppar                      NaN\n",
       "pl_orblper                    94.8\n",
       "st_spectype                 G8 III\n",
       "st_teff                     4742.0\n",
       "st_mass                        2.7\n",
       "st_lum                       2.243\n",
       "st_logg                       2.31\n",
       "rastr                 12h20m42.91s\n",
       "ra                      185.178779\n",
       "decstr               +17d47m35.71s\n",
       "dec                      17.793252\n",
       "sy_dist                    93.1846\n",
       "sy_vmag                    4.72307\n",
       "sy_kmag                      2.282\n",
       "sy_gaiamag                 4.44038\n",
       "sy_gaiamagerr1            0.003848\n",
       "sy_gaiamagerr2           -0.003848\n",
       "Name: 0, dtype: object"
      ]
     },
     "execution_count": 4,
     "metadata": {},
     "output_type": "execute_result"
    }
   ],
   "source": [
    "data.iloc[0]"
   ]
  },
  {
   "cell_type": "code",
   "execution_count": 5,
   "id": "f755fd98-2be5-4b1a-af88-1916387bca95",
   "metadata": {},
   "outputs": [],
   "source": [
    "columns_to_drop = [\n",
    "    'pl_name',\n",
    "    'hostname',\n",
    "    'disc_facility',\n",
    "    'disc_telescope',\n",
    "]\n",
    "\n",
    "data = data.drop(columns=columns_to_drop);"
   ]
  },
  {
   "cell_type": "markdown",
   "id": "ca4a0b69-12e0-477e-8939-70112e86a1b4",
   "metadata": {},
   "source": [
    "Looks like there are some `NaN`, as well as some columns we will need to one-hot encode. There are also time columns. I will definitely have to do some research on the best way to encode time. Something I'm guessing one would need to consider when encoding time is the fact that, for example, 5:30PM is not quantitatively *more* than 5:00PM. Sure, one time comes after the other but I would argue it's closer to a nominal or ordinal scale than an interval or ratio scale in some cases. I think one could argue that the model you apply to the data will learn to work with whatever you gave it. I guess really what I'm arguing is that there is more than one way to encode time. Whereas, there is only one way to encode a boolean. In certain cases, you might want to consider how time is encoded, so I definitely think it's worth looking into."
   ]
  },
  {
   "cell_type": "code",
   "execution_count": 6,
   "id": "b61ece5b-a47d-45bd-b4b1-f99ccbed105f",
   "metadata": {},
   "outputs": [
    {
     "data": {
      "text/plain": [
       "sy_snum                       2\n",
       "sy_pnum                       1\n",
       "pl_orbper                326.03\n",
       "pl_orbsmax                 1.29\n",
       "pl_rade                    12.1\n",
       "pl_radj                    1.08\n",
       "pl_bmasse                6165.6\n",
       "pl_bmassj                  19.4\n",
       "pl_bmassprov              Msini\n",
       "pl_dens                    19.1\n",
       "pl_orbeccen               0.231\n",
       "pl_insol                    NaN\n",
       "pl_eqt                      NaN\n",
       "pl_orbincl                  NaN\n",
       "ttv_flag                      0\n",
       "pl_imppar                   NaN\n",
       "pl_orblper                 94.8\n",
       "st_spectype              G8 III\n",
       "st_teff                  4742.0\n",
       "st_mass                     2.7\n",
       "st_lum                    2.243\n",
       "st_logg                    2.31\n",
       "rastr              12h20m42.91s\n",
       "ra                   185.178779\n",
       "decstr            +17d47m35.71s\n",
       "dec                   17.793252\n",
       "sy_dist                 93.1846\n",
       "sy_vmag                 4.72307\n",
       "sy_kmag                   2.282\n",
       "sy_gaiamag              4.44038\n",
       "sy_gaiamagerr1         0.003848\n",
       "sy_gaiamagerr2        -0.003848\n",
       "Name: 0, dtype: object"
      ]
     },
     "execution_count": 6,
     "metadata": {},
     "output_type": "execute_result"
    }
   ],
   "source": [
    "data.iloc[0]"
   ]
  },
  {
   "cell_type": "markdown",
   "id": "c880d8dd-5ed2-440f-b1d0-2b052d158322",
   "metadata": {},
   "source": [
    "These columns aren't really what I was expecting and a lot of them are information that is really unfamiliar to me, so I think it will be beneficial to explore it more and see what each column looks like. This is more EDA than I would usually do.\n",
    "\n",
    "I'm specifically interested in the `pl_bmassprov` column. According to the website, this column is \"Planet Mass or Mass*sin(i) Provenance\". I'm not sure why this datapoint has `Msini` in this column."
   ]
  },
  {
   "cell_type": "code",
   "execution_count": 7,
   "id": "11a1dd74-8e92-4357-bfb9-95efaa75a4f6",
   "metadata": {},
   "outputs": [
    {
     "name": "stdout",
     "output_type": "stream",
     "text": [
      "Column: sy_snum\n",
      "[2 1 3 4]\n",
      "Column: sy_pnum\n",
      "[1 2 3 5 4 6 8 7]\n",
      "Column: ttv_flag\n",
      "[0 1]\n",
      "Column: pl_bmassprov\n",
      "['Msini' 'Mass' 'Msin(i)/sin(i)' 'M-R relationship']\n"
     ]
    }
   ],
   "source": [
    "view_columns = [\n",
    "    'sy_snum',\n",
    "    'sy_pnum',\n",
    "    'ttv_flag',\n",
    "    'spectype',\n",
    "    'pl_bmassprov'\n",
    "]\n",
    "    \n",
    "for key in view_columns:\n",
    "    if key not in data.columns:\n",
    "        continue\n",
    "    print(f'Column: {key}')\n",
    "    print(data[key].unique())"
   ]
  },
  {
   "cell_type": "markdown",
   "id": "97059e7f-eda0-422e-918c-58890b5f1bd4",
   "metadata": {},
   "source": [
    "Looks like `pl_bmassprov` can be one-hot encoded.\n",
    "\n",
    "Also, very surprised we are looking at solar systems with 4 stars. I was not aware that happened.\n",
    "\n",
    "After all that talk about how to encode time, I didn't consult any sources and I've decided to just encode it into miliseconds.\n",
    "\n",
    "For the rest of this section, here are the things we need to do:\n",
    "\n",
    "* Encode the time columns\n",
    "* One-hot encode the appropriate columns\n",
    "* Fill in null values\n",
    "* Look at mean, median, etc.\n",
    "* Normalize the data"
   ]
  },
  {
   "cell_type": "markdown",
   "id": "fc440615-a2c7-4eb8-96a8-5958e6f696e0",
   "metadata": {},
   "source": [
    "### Encoding Time Columns\n",
    "\n",
    "We need to encode the columns `rastr` and `decstr` into miliseconds in order for them to be usable."
   ]
  },
  {
   "cell_type": "code",
   "execution_count": 8,
   "id": "d5d7a0c9-d078-4fd7-ae76-627cf965adfd",
   "metadata": {},
   "outputs": [
    {
     "name": "stdout",
     "output_type": "stream",
     "text": [
      "0     12h20m42.91s\n",
      "1     15h17m05.90s\n",
      "2     23h31m17.80s\n",
      "3     16h10m24.50s\n",
      "4     19h41m51.75s\n",
      "          ...     \n",
      "95    06h44m12.63s\n",
      "96    18h42m40.11s\n",
      "97    18h39m07.84s\n",
      "98    06h47m41.41s\n",
      "99    06h47m41.41s\n",
      "Name: rastr, Length: 100, dtype: object\n",
      "0     +17d47m35.71s\n",
      "1     +71d49m26.19s\n",
      "2     +39d14m09.01s\n",
      "3     +43d48m58.90s\n",
      "4     +50d31m00.57s\n",
      "          ...      \n",
      "95    -00d17m56.96s\n",
      "96    +06d13m09.00s\n",
      "97    +04d21m27.91s\n",
      "98    -03d43m09.44s\n",
      "99    -03d43m09.44s\n",
      "Name: decstr, Length: 100, dtype: object\n"
     ]
    }
   ],
   "source": [
    "print(data['rastr'].iloc[:100])\n",
    "print(data['decstr'].iloc[:100])"
   ]
  },
  {
   "cell_type": "code",
   "execution_count": 9,
   "id": "b539ac30-4ef5-46b9-8758-5888e3c9959e",
   "metadata": {},
   "outputs": [],
   "source": [
    "def time_to_ms(value):\n",
    "\n",
    "    # determine if the value will be positive or negative\n",
    "    is_positive = value[0] != '-'\n",
    "    \n",
    "    # remove negative or postitive signs\n",
    "    value = value.replace('-', '')\n",
    "    value = value.replace('+', '')\n",
    "    \n",
    "    # create a dictionary containing\n",
    "    # the value for each time unit\n",
    "    time_dict = dict()\n",
    "\n",
    "    # list of time-unit-denoting characters\n",
    "    # in order from largest to smallest\n",
    "    unit_chars = ['d', 'h', 'm', 's']\n",
    "    conversions = {\n",
    "        'd': 86_400_000,\n",
    "        'h': 3_600_000,\n",
    "        'm': 60_000,\n",
    "        's': 1_000\n",
    "    }\n",
    "    unit_char_idx = 0\n",
    "    curr_amt = ''\n",
    "    \n",
    "    for char in value:\n",
    "        if char.isnumeric():\n",
    "            curr_amt += char\n",
    "        elif char.isalpha():\n",
    "            if char in unit_chars:\n",
    "                time_dict[char] = curr_amt\n",
    "                curr_amt = ''\n",
    "        else:\n",
    "            # ignoring this character?\n",
    "            pass\n",
    "\n",
    "    time_ms = 0\n",
    "    for key, value in time_dict.items():\n",
    "        time_ms += conversions[key] * int(value)\n",
    "\n",
    "    return time_ms if is_positive else -time_ms\n",
    "        \n",
    "\n",
    "# test the function we just wrote\n",
    "assert time_to_ms('2h5m13s') == 7_513_000\n",
    "assert time_to_ms('1h') == 3_600_000\n",
    "assert time_to_ms('0') == 0\n",
    "assert time_to_ms('2h3m') == 7_380_000\n",
    "assert time_to_ms('-4d') == -345_600_000"
   ]
  },
  {
   "cell_type": "markdown",
   "id": "93f73a7a-fce3-41ab-af9a-ccacbfc32a43",
   "metadata": {},
   "source": [
    "I'm goated for this ^^ actually...did not think it was going to work..."
   ]
  },
  {
   "cell_type": "code",
   "execution_count": 10,
   "id": "a9d0ff13-7a55-458c-9356-d7c7fa271e4e",
   "metadata": {},
   "outputs": [],
   "source": [
    "data['rastr'], data['decstr'] = data['rastr'].apply(time_to_ms), data['decstr'].apply(time_to_ms)"
   ]
  },
  {
   "cell_type": "code",
   "execution_count": 11,
   "id": "e2f90596-a953-4862-9fd0-32bb3015715a",
   "metadata": {},
   "outputs": [
    {
     "data": {
      "text/plain": [
       "count    5.514000e+03\n",
       "mean     1.688644e+09\n",
       "std      3.047168e+09\n",
       "min     -7.605220e+09\n",
       "25%     -6.095500e+08\n",
       "50%      3.377713e+09\n",
       "75%      3.892490e+09\n",
       "max      7.350775e+09\n",
       "Name: decstr, dtype: float64"
      ]
     },
     "execution_count": 11,
     "metadata": {},
     "output_type": "execute_result"
    }
   ],
   "source": [
    "data['decstr'].describe()"
   ]
  },
  {
   "cell_type": "code",
   "execution_count": 12,
   "id": "ca3013bd-b0e9-4803-85e5-b4af9937c3d4",
   "metadata": {},
   "outputs": [
    {
     "data": {
      "text/plain": [
       "count    5.514000e+03\n",
       "mean     5.994675e+07\n",
       "std      2.172978e+07\n",
       "min      7.680000e+05\n",
       "25%      4.701175e+07\n",
       "50%      7.105200e+07\n",
       "75%      7.376600e+07\n",
       "max      1.073200e+08\n",
       "Name: rastr, dtype: float64"
      ]
     },
     "execution_count": 12,
     "metadata": {},
     "output_type": "execute_result"
    }
   ],
   "source": [
    "data['rastr'].describe()"
   ]
  },
  {
   "cell_type": "markdown",
   "id": "a872dbb0-c61e-4b17-97ed-e51ea3e1d478",
   "metadata": {},
   "source": [
    "### One-hot Encode Columns"
   ]
  },
  {
   "cell_type": "code",
   "execution_count": 13,
   "id": "fd582e2c-53cd-4012-91f2-57adc661d342",
   "metadata": {},
   "outputs": [],
   "source": [
    "one_hot_columns = [\n",
    "    'pl_bmassprov',\n",
    "    'st_spectype',\n",
    "]\n",
    "\n",
    "def encode_columns(df, columns):\n",
    "    encoded = df\n",
    "    for column in columns:\n",
    "        one_hot = pd.get_dummies(df[column])\n",
    "        encoded = encoded.drop(column, axis=1)\n",
    "        encoded = pd.concat([encoded, one_hot.map(lambda x: int(x))], axis=1)\n",
    "    return encoded\n",
    "\n",
    "data = encode_columns(data, one_hot_columns)"
   ]
  },
  {
   "cell_type": "code",
   "execution_count": 14,
   "id": "50a6aee4-c97f-4d7c-91fc-47bd25407bd8",
   "metadata": {},
   "outputs": [
    {
     "name": "stdout",
     "output_type": "stream",
     "text": [
      "1\n"
     ]
    }
   ],
   "source": [
    "total = 0\n",
    "\n",
    "# slightly naive check to make sure we are properly\n",
    "# one-hot encoding the data\n",
    "for i in range(35, data.shape[1]):\n",
    "    total += data.iloc[0, i]\n",
    "\n",
    "print(total)"
   ]
  },
  {
   "cell_type": "markdown",
   "id": "1a1185ed-8a2f-46da-89e1-1b17c4601581",
   "metadata": {},
   "source": [
    "### Fill in Null Values"
   ]
  },
  {
   "cell_type": "code",
   "execution_count": 22,
   "id": "8a98b269-23a7-4fc7-81c3-ac8207043636",
   "metadata": {},
   "outputs": [],
   "source": [
    "for column in data.columns:\n",
    "    data[column] = data[column].fillna(data[column].mean())"
   ]
  },
  {
   "cell_type": "code",
   "execution_count": 30,
   "id": "5a531467-6fcd-4120-ba3c-36f992491914",
   "metadata": {},
   "outputs": [],
   "source": [
    "for column in data.columns:\n",
    "    if data[column].isna().values.any():\n",
    "        print(f'Dataframe has NaN values in column \"{column}\"')"
   ]
  },
  {
   "cell_type": "markdown",
   "id": "19764e0f-c839-47d5-97cb-0015aa6b0008",
   "metadata": {},
   "source": [
    "### Analyze Characteristics"
   ]
  },
  {
   "cell_type": "markdown",
   "id": "348680db-6c2c-4dd6-90aa-3687afbddd8b",
   "metadata": {},
   "source": [
    "### Normalize"
   ]
  },
  {
   "cell_type": "markdown",
   "id": "a3aeeb7d-4326-457a-9f87-75fae266670e",
   "metadata": {},
   "source": [
    "### Plot Some Columns"
   ]
  },
  {
   "cell_type": "code",
   "execution_count": 20,
   "id": "a0db584b-b3c1-43cd-979e-4cca65340933",
   "metadata": {},
   "outputs": [
    {
     "data": {
      "image/png": "[encoded data removed]",
      "text/plain": [
       "<Figure size 640x480 with 1 Axes>"
      ]
     },
     "metadata": {},
     "output_type": "display_data"
    }
   ],
   "source": [
    "data.hist(column='sy_snum');"
   ]
  },
  {
   "cell_type": "code",
   "execution_count": null,
   "id": "5625dfae-e7eb-4d02-beeb-37b4818765fd",
   "metadata": {},
   "outputs": [],
   "source": []
  }
 ],
 "metadata": {
  "kernelspec": {
   "display_name": "Aquifer",
   "language": "python",
   "name": "aquifer"
  },
  "language_info": {
   "codemirror_mode": {
    "name": "ipython",
    "version": 3
   },
   "file_extension": ".py",
   "mimetype": "text/x-python",
   "name": "python",
   "nbconvert_exporter": "python",
   "pygments_lexer": "ipython3",
   "version": "3.11.5"
  }
 },
 "nbformat": 4,
 "nbformat_minor": 5
}
