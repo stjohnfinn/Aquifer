{
 "cells": [
  {
   "cell_type": "markdown",
   "id": "d4bec21f-23d5-41c5-9ad7-bc704fa58643",
   "metadata": {},
   "source": [
    "# K-means Clustering Implementation"
   ]
  },
  {
   "cell_type": "markdown",
   "id": "ed940f7b-6632-4e80-89fd-9361f0c2ec1c",
   "metadata": {},
   "source": [
    "Import all of the modules we're going to need..."
   ]
  },
  {
   "cell_type": "code",
   "execution_count": 1,
   "id": "7a57412c-63f1-421c-9ba5-9fb252f90e25",
   "metadata": {},
   "outputs": [],
   "source": [
    "import pandas as pd\n",
    "import numpy as np\n",
    "import matplotlib.pyplot as plt\n",
    "from sklearn.preprocessing import MinMaxScaler"
   ]
  },
  {
   "cell_type": "markdown",
   "id": "a166c90e-de06-487d-b78c-00fa4d494ed0",
   "metadata": {},
   "source": [
    "First, load the data and take a peek..."
   ]
  },
  {
   "cell_type": "code",
   "execution_count": 2,
   "id": "fd163b2b-f093-4486-96ed-b6aaa8d17c2e",
   "metadata": {},
   "outputs": [],
   "source": [
    "DATA_FILEPATH = './data/PSCompPars_2023.09.17_08.49.34.csv'\n",
    "\n",
    "data = pd.read_csv(DATA_FILEPATH)"
   ]
  },
  {
   "cell_type": "code",
   "execution_count": 3,
   "id": "1dc371e6-ce5c-4d37-83f3-27c4bb7627b2",
   "metadata": {},
   "outputs": [
    {
     "name": "stdout",
     "output_type": "stream",
     "text": [
      "(5514, 36)\n"
     ]
    },
    {
     "data": {
      "text/html": [
       "<div>\n",
       "<style scoped>\n",
       "    .dataframe tbody tr th:only-of-type {\n",
       "        vertical-align: middle;\n",
       "    }\n",
       "\n",
       "    .dataframe tbody tr th {\n",
       "        vertical-align: top;\n",
       "    }\n",
       "\n",
       "    .dataframe thead th {\n",
       "        text-align: right;\n",
       "    }\n",
       "</style>\n",
       "<table border=\"1\" class=\"dataframe\">\n",
       "  <thead>\n",
       "    <tr style=\"text-align: right;\">\n",
       "      <th></th>\n",
       "      <th>pl_name</th>\n",
       "      <th>hostname</th>\n",
       "      <th>sy_snum</th>\n",
       "      <th>sy_pnum</th>\n",
       "      <th>disc_facility</th>\n",
       "      <th>disc_telescope</th>\n",
       "      <th>pl_orbper</th>\n",
       "      <th>pl_orbsmax</th>\n",
       "      <th>pl_rade</th>\n",
       "      <th>pl_radj</th>\n",
       "      <th>...</th>\n",
       "      <th>rastr</th>\n",
       "      <th>ra</th>\n",
       "      <th>decstr</th>\n",
       "      <th>dec</th>\n",
       "      <th>sy_dist</th>\n",
       "      <th>sy_vmag</th>\n",
       "      <th>sy_kmag</th>\n",
       "      <th>sy_gaiamag</th>\n",
       "      <th>sy_gaiamagerr1</th>\n",
       "      <th>sy_gaiamagerr2</th>\n",
       "    </tr>\n",
       "  </thead>\n",
       "  <tbody>\n",
       "    <tr>\n",
       "      <th>0</th>\n",
       "      <td>11 Com b</td>\n",
       "      <td>11 Com</td>\n",
       "      <td>2</td>\n",
       "      <td>1</td>\n",
       "      <td>Xinglong Station</td>\n",
       "      <td>2.16 m Telescope</td>\n",
       "      <td>326.03000</td>\n",
       "      <td>1.290</td>\n",
       "      <td>12.1</td>\n",
       "      <td>1.08</td>\n",
       "      <td>...</td>\n",
       "      <td>12h20m42.91s</td>\n",
       "      <td>185.178779</td>\n",
       "      <td>+17d47m35.71s</td>\n",
       "      <td>17.793252</td>\n",
       "      <td>93.1846</td>\n",
       "      <td>4.72307</td>\n",
       "      <td>2.282</td>\n",
       "      <td>4.44038</td>\n",
       "      <td>0.003848</td>\n",
       "      <td>-0.003848</td>\n",
       "    </tr>\n",
       "    <tr>\n",
       "      <th>1</th>\n",
       "      <td>11 UMi b</td>\n",
       "      <td>11 UMi</td>\n",
       "      <td>1</td>\n",
       "      <td>1</td>\n",
       "      <td>Thueringer Landessternwarte Tautenburg</td>\n",
       "      <td>2.0 m Alfred Jensch Telescope</td>\n",
       "      <td>516.21997</td>\n",
       "      <td>1.530</td>\n",
       "      <td>12.3</td>\n",
       "      <td>1.09</td>\n",
       "      <td>...</td>\n",
       "      <td>15h17m05.90s</td>\n",
       "      <td>229.274595</td>\n",
       "      <td>+71d49m26.19s</td>\n",
       "      <td>71.823943</td>\n",
       "      <td>125.3210</td>\n",
       "      <td>5.01300</td>\n",
       "      <td>1.939</td>\n",
       "      <td>4.56216</td>\n",
       "      <td>0.003903</td>\n",
       "      <td>-0.003903</td>\n",
       "    </tr>\n",
       "    <tr>\n",
       "      <th>2</th>\n",
       "      <td>14 And b</td>\n",
       "      <td>14 And</td>\n",
       "      <td>1</td>\n",
       "      <td>1</td>\n",
       "      <td>Okayama Astrophysical Observatory</td>\n",
       "      <td>1.88 m Telescope</td>\n",
       "      <td>185.84000</td>\n",
       "      <td>0.830</td>\n",
       "      <td>12.9</td>\n",
       "      <td>1.15</td>\n",
       "      <td>...</td>\n",
       "      <td>23h31m17.80s</td>\n",
       "      <td>352.824150</td>\n",
       "      <td>+39d14m09.01s</td>\n",
       "      <td>39.235837</td>\n",
       "      <td>75.4392</td>\n",
       "      <td>5.23133</td>\n",
       "      <td>2.331</td>\n",
       "      <td>4.91781</td>\n",
       "      <td>0.002826</td>\n",
       "      <td>-0.002826</td>\n",
       "    </tr>\n",
       "    <tr>\n",
       "      <th>3</th>\n",
       "      <td>14 Her b</td>\n",
       "      <td>14 Her</td>\n",
       "      <td>1</td>\n",
       "      <td>2</td>\n",
       "      <td>W. M. Keck Observatory</td>\n",
       "      <td>10 m Keck I Telescope</td>\n",
       "      <td>1765.03890</td>\n",
       "      <td>2.774</td>\n",
       "      <td>12.6</td>\n",
       "      <td>1.12</td>\n",
       "      <td>...</td>\n",
       "      <td>16h10m24.50s</td>\n",
       "      <td>242.602101</td>\n",
       "      <td>+43d48m58.90s</td>\n",
       "      <td>43.816362</td>\n",
       "      <td>17.9323</td>\n",
       "      <td>6.61935</td>\n",
       "      <td>4.714</td>\n",
       "      <td>6.38300</td>\n",
       "      <td>0.000351</td>\n",
       "      <td>-0.000351</td>\n",
       "    </tr>\n",
       "    <tr>\n",
       "      <th>4</th>\n",
       "      <td>16 Cyg B b</td>\n",
       "      <td>16 Cyg B</td>\n",
       "      <td>3</td>\n",
       "      <td>1</td>\n",
       "      <td>Multiple Observatories</td>\n",
       "      <td>Multiple Telescopes</td>\n",
       "      <td>798.50000</td>\n",
       "      <td>1.660</td>\n",
       "      <td>13.5</td>\n",
       "      <td>1.20</td>\n",
       "      <td>...</td>\n",
       "      <td>19h41m51.75s</td>\n",
       "      <td>295.465642</td>\n",
       "      <td>+50d31m00.57s</td>\n",
       "      <td>50.516824</td>\n",
       "      <td>21.1397</td>\n",
       "      <td>6.21500</td>\n",
       "      <td>4.651</td>\n",
       "      <td>6.06428</td>\n",
       "      <td>0.000603</td>\n",
       "      <td>-0.000603</td>\n",
       "    </tr>\n",
       "  </tbody>\n",
       "</table>\n",
       "<p>5 rows × 36 columns</p>\n",
       "</div>"
      ],
      "text/plain": [
       "      pl_name  hostname  sy_snum  sy_pnum  \\\n",
       "0    11 Com b    11 Com        2        1   \n",
       "1    11 UMi b    11 UMi        1        1   \n",
       "2    14 And b    14 And        1        1   \n",
       "3    14 Her b    14 Her        1        2   \n",
       "4  16 Cyg B b  16 Cyg B        3        1   \n",
       "\n",
       "                            disc_facility                 disc_telescope  \\\n",
       "0                        Xinglong Station               2.16 m Telescope   \n",
       "1  Thueringer Landessternwarte Tautenburg  2.0 m Alfred Jensch Telescope   \n",
       "2       Okayama Astrophysical Observatory               1.88 m Telescope   \n",
       "3                  W. M. Keck Observatory          10 m Keck I Telescope   \n",
       "4                  Multiple Observatories            Multiple Telescopes   \n",
       "\n",
       "    pl_orbper  pl_orbsmax  pl_rade  pl_radj  ...         rastr          ra  \\\n",
       "0   326.03000       1.290     12.1     1.08  ...  12h20m42.91s  185.178779   \n",
       "1   516.21997       1.530     12.3     1.09  ...  15h17m05.90s  229.274595   \n",
       "2   185.84000       0.830     12.9     1.15  ...  23h31m17.80s  352.824150   \n",
       "3  1765.03890       2.774     12.6     1.12  ...  16h10m24.50s  242.602101   \n",
       "4   798.50000       1.660     13.5     1.20  ...  19h41m51.75s  295.465642   \n",
       "\n",
       "          decstr        dec   sy_dist  sy_vmag  sy_kmag  sy_gaiamag  \\\n",
       "0  +17d47m35.71s  17.793252   93.1846  4.72307    2.282     4.44038   \n",
       "1  +71d49m26.19s  71.823943  125.3210  5.01300    1.939     4.56216   \n",
       "2  +39d14m09.01s  39.235837   75.4392  5.23133    2.331     4.91781   \n",
       "3  +43d48m58.90s  43.816362   17.9323  6.61935    4.714     6.38300   \n",
       "4  +50d31m00.57s  50.516824   21.1397  6.21500    4.651     6.06428   \n",
       "\n",
       "   sy_gaiamagerr1  sy_gaiamagerr2  \n",
       "0        0.003848       -0.003848  \n",
       "1        0.003903       -0.003903  \n",
       "2        0.002826       -0.002826  \n",
       "3        0.000351       -0.000351  \n",
       "4        0.000603       -0.000603  \n",
       "\n",
       "[5 rows x 36 columns]"
      ]
     },
     "execution_count": 3,
     "metadata": {},
     "output_type": "execute_result"
    }
   ],
   "source": [
    "print(data.shape)\n",
    "\n",
    "data.head()"
   ]
  },
  {
   "cell_type": "markdown",
   "id": "08e45a16-d1b9-4956-b3d8-5535e4b393c8",
   "metadata": {},
   "source": [
    "We have 36 features to work with, which is great.\n",
    "\n",
    "More information on what each of these columns means can be found on the page linked in the README."
   ]
  },
  {
   "cell_type": "markdown",
   "id": "78049ad3-8a97-4024-949d-98d3d9b50146",
   "metadata": {},
   "source": [
    "## Data Cleaning & Formatting"
   ]
  },
  {
   "cell_type": "code",
   "execution_count": 4,
   "id": "53e678b0-caa7-4af9-95bf-9650f4116650",
   "metadata": {},
   "outputs": [
    {
     "data": {
      "text/plain": [
       "pl_name                   11 Com b\n",
       "hostname                    11 Com\n",
       "sy_snum                          2\n",
       "sy_pnum                          1\n",
       "disc_facility     Xinglong Station\n",
       "disc_telescope    2.16 m Telescope\n",
       "pl_orbper                   326.03\n",
       "pl_orbsmax                    1.29\n",
       "pl_rade                       12.1\n",
       "pl_radj                       1.08\n",
       "pl_bmasse                   6165.6\n",
       "pl_bmassj                     19.4\n",
       "pl_bmassprov                 Msini\n",
       "pl_dens                       19.1\n",
       "pl_orbeccen                  0.231\n",
       "pl_insol                       NaN\n",
       "pl_eqt                         NaN\n",
       "pl_orbincl                     NaN\n",
       "ttv_flag                         0\n",
       "pl_imppar                      NaN\n",
       "pl_orblper                    94.8\n",
       "st_spectype                 G8 III\n",
       "st_teff                     4742.0\n",
       "st_mass                        2.7\n",
       "st_lum                       2.243\n",
       "st_logg                       2.31\n",
       "rastr                 12h20m42.91s\n",
       "ra                      185.178779\n",
       "decstr               +17d47m35.71s\n",
       "dec                      17.793252\n",
       "sy_dist                    93.1846\n",
       "sy_vmag                    4.72307\n",
       "sy_kmag                      2.282\n",
       "sy_gaiamag                 4.44038\n",
       "sy_gaiamagerr1            0.003848\n",
       "sy_gaiamagerr2           -0.003848\n",
       "Name: 0, dtype: object"
      ]
     },
     "execution_count": 4,
     "metadata": {},
     "output_type": "execute_result"
    }
   ],
   "source": [
    "data.iloc[0]"
   ]
  },
  {
   "cell_type": "code",
   "execution_count": 5,
   "id": "f755fd98-2be5-4b1a-af88-1916387bca95",
   "metadata": {},
   "outputs": [],
   "source": [
    "columns_to_drop = [\n",
    "    'pl_name',\n",
    "    'hostname',\n",
    "    'disc_facility',\n",
    "    'disc_telescope',\n",
    "]\n",
    "\n",
    "data = data.drop(columns=columns_to_drop);"
   ]
  },
  {
   "cell_type": "markdown",
   "id": "ca4a0b69-12e0-477e-8939-70112e86a1b4",
   "metadata": {},
   "source": [
    "Looks like there are some `NaN`, as well as some columns we will need to one-hot encode. There are also time columns. I will definitely have to do some research on the best way to encode time. Something I'm guessing one would need to consider when encoding time is the fact that, for example, 5:30PM is not quantitatively *more* than 5:00PM. Sure, one time comes after the other but I would argue it's closer to a nominal or ordinal scale than an interval or ratio scale in some cases. I think one could argue that the model you apply to the data will learn to work with whatever you gave it. I guess really what I'm arguing is that there is more than one way to encode time. Whereas, there is only one way to encode a boolean. In certain cases, you might want to consider how time is encoded, so I definitely think it's worth looking into."
   ]
  },
  {
   "cell_type": "code",
   "execution_count": 6,
   "id": "b61ece5b-a47d-45bd-b4b1-f99ccbed105f",
   "metadata": {},
   "outputs": [
    {
     "data": {
      "text/plain": [
       "sy_snum                       2\n",
       "sy_pnum                       1\n",
       "pl_orbper                326.03\n",
       "pl_orbsmax                 1.29\n",
       "pl_rade                    12.1\n",
       "pl_radj                    1.08\n",
       "pl_bmasse                6165.6\n",
       "pl_bmassj                  19.4\n",
       "pl_bmassprov              Msini\n",
       "pl_dens                    19.1\n",
       "pl_orbeccen               0.231\n",
       "pl_insol                    NaN\n",
       "pl_eqt                      NaN\n",
       "pl_orbincl                  NaN\n",
       "ttv_flag                      0\n",
       "pl_imppar                   NaN\n",
       "pl_orblper                 94.8\n",
       "st_spectype              G8 III\n",
       "st_teff                  4742.0\n",
       "st_mass                     2.7\n",
       "st_lum                    2.243\n",
       "st_logg                    2.31\n",
       "rastr              12h20m42.91s\n",
       "ra                   185.178779\n",
       "decstr            +17d47m35.71s\n",
       "dec                   17.793252\n",
       "sy_dist                 93.1846\n",
       "sy_vmag                 4.72307\n",
       "sy_kmag                   2.282\n",
       "sy_gaiamag              4.44038\n",
       "sy_gaiamagerr1         0.003848\n",
       "sy_gaiamagerr2        -0.003848\n",
       "Name: 0, dtype: object"
      ]
     },
     "execution_count": 6,
     "metadata": {},
     "output_type": "execute_result"
    }
   ],
   "source": [
    "data.iloc[0]"
   ]
  },
  {
   "cell_type": "markdown",
   "id": "c880d8dd-5ed2-440f-b1d0-2b052d158322",
   "metadata": {},
   "source": [
    "These columns aren't really what I was expecting and a lot of them are information that is really unfamiliar to me, so I think it will be beneficial to explore it more and see what each column looks like. This is more EDA than I would usually do.\n",
    "\n",
    "I'm specifically interested in the `pl_bmassprov` column. According to the website, this column is \"Planet Mass or Mass*sin(i) Provenance\". I'm not sure why this datapoint has `Msini` in this column."
   ]
  },
  {
   "cell_type": "code",
   "execution_count": 7,
   "id": "11a1dd74-8e92-4357-bfb9-95efaa75a4f6",
   "metadata": {},
   "outputs": [
    {
     "name": "stdout",
     "output_type": "stream",
     "text": [
      "Column: sy_snum\n",
      "[2 1 3 4]\n",
      "Column: sy_pnum\n",
      "[1 2 3 5 4 6 8 7]\n",
      "Column: ttv_flag\n",
      "[0 1]\n",
      "Column: pl_bmassprov\n",
      "['Msini' 'Mass' 'Msin(i)/sin(i)' 'M-R relationship']\n"
     ]
    }
   ],
   "source": [
    "view_columns = [\n",
    "    'sy_snum',\n",
    "    'sy_pnum',\n",
    "    'ttv_flag',\n",
    "    'spectype',\n",
    "    'pl_bmassprov'\n",
    "]\n",
    "    \n",
    "for key in view_columns:\n",
    "    if key not in data.columns:\n",
    "        continue\n",
    "    print(f'Column: {key}')\n",
    "    print(data[key].unique())"
   ]
  },
  {
   "cell_type": "markdown",
   "id": "97059e7f-eda0-422e-918c-58890b5f1bd4",
   "metadata": {},
   "source": [
    "Looks like `pl_bmassprov` can be one-hot encoded.\n",
    "\n",
    "Also, very surprised we are looking at solar systems with 4 stars. I was not aware that happened.\n",
    "\n",
    "After all that talk about how to encode time, I didn't consult any sources and I've decided to just encode it into miliseconds.\n",
    "\n",
    "For the rest of this section, here are the things we need to do:\n",
    "\n",
    "* Encode the time columns\n",
    "* One-hot encode the appropriate columns\n",
    "* Fill in null values\n",
    "* Look at mean, median, etc.\n",
    "* Normalize the data"
   ]
  },
  {
   "cell_type": "markdown",
   "id": "fc440615-a2c7-4eb8-96a8-5958e6f696e0",
   "metadata": {},
   "source": [
    "### Encoding Time Columns\n",
    "\n",
    "We need to encode the columns `rastr` and `decstr` into miliseconds in order for them to be usable."
   ]
  },
  {
   "cell_type": "code",
   "execution_count": 8,
   "id": "d5d7a0c9-d078-4fd7-ae76-627cf965adfd",
   "metadata": {},
   "outputs": [
    {
     "name": "stdout",
     "output_type": "stream",
     "text": [
      "0     12h20m42.91s\n",
      "1     15h17m05.90s\n",
      "2     23h31m17.80s\n",
      "3     16h10m24.50s\n",
      "4     19h41m51.75s\n",
      "          ...     \n",
      "95    06h44m12.63s\n",
      "96    18h42m40.11s\n",
      "97    18h39m07.84s\n",
      "98    06h47m41.41s\n",
      "99    06h47m41.41s\n",
      "Name: rastr, Length: 100, dtype: object\n",
      "0     +17d47m35.71s\n",
      "1     +71d49m26.19s\n",
      "2     +39d14m09.01s\n",
      "3     +43d48m58.90s\n",
      "4     +50d31m00.57s\n",
      "          ...      \n",
      "95    -00d17m56.96s\n",
      "96    +06d13m09.00s\n",
      "97    +04d21m27.91s\n",
      "98    -03d43m09.44s\n",
      "99    -03d43m09.44s\n",
      "Name: decstr, Length: 100, dtype: object\n"
     ]
    }
   ],
   "source": [
    "print(data['rastr'].iloc[:100])\n",
    "print(data['decstr'].iloc[:100])"
   ]
  },
  {
   "cell_type": "code",
   "execution_count": 9,
   "id": "b539ac30-4ef5-46b9-8758-5888e3c9959e",
   "metadata": {},
   "outputs": [],
   "source": [
    "def time_to_ms(value):\n",
    "\n",
    "    # determine if the value will be positive or negative\n",
    "    is_positive = value[0] != '-'\n",
    "    \n",
    "    # remove negative or postitive signs\n",
    "    value = value.replace('-', '')\n",
    "    value = value.replace('+', '')\n",
    "    \n",
    "    # create a dictionary containing\n",
    "    # the value for each time unit\n",
    "    time_dict = dict()\n",
    "\n",
    "    # list of time-unit-denoting characters\n",
    "    # in order from largest to smallest\n",
    "    unit_chars = ['d', 'h', 'm', 's']\n",
    "    conversions = {\n",
    "        'd': 86_400_000,\n",
    "        'h': 3_600_000,\n",
    "        'm': 60_000,\n",
    "        's': 1_000\n",
    "    }\n",
    "    unit_char_idx = 0\n",
    "    curr_amt = ''\n",
    "    \n",
    "    for char in value:\n",
    "        if char.isnumeric():\n",
    "            curr_amt += char\n",
    "        elif char.isalpha():\n",
    "            if char in unit_chars:\n",
    "                time_dict[char] = curr_amt\n",
    "                curr_amt = ''\n",
    "        else:\n",
    "            # ignoring this character?\n",
    "            pass\n",
    "\n",
    "    time_ms = 0\n",
    "    for key, value in time_dict.items():\n",
    "        time_ms += conversions[key] * int(value)\n",
    "\n",
    "    return time_ms if is_positive else -time_ms\n",
    "        \n",
    "\n",
    "# test the function we just wrote\n",
    "assert time_to_ms('2h5m13s') == 7_513_000\n",
    "assert time_to_ms('1h') == 3_600_000\n",
    "assert time_to_ms('0') == 0\n",
    "assert time_to_ms('2h3m') == 7_380_000\n",
    "assert time_to_ms('-4d') == -345_600_000"
   ]
  },
  {
   "cell_type": "markdown",
   "id": "93f73a7a-fce3-41ab-af9a-ccacbfc32a43",
   "metadata": {},
   "source": [
    "I'm goated for this ^^ actually...did not think it was going to work..."
   ]
  },
  {
   "cell_type": "code",
   "execution_count": 10,
   "id": "a9d0ff13-7a55-458c-9356-d7c7fa271e4e",
   "metadata": {},
   "outputs": [],
   "source": [
    "data['rastr'], data['decstr'] = data['rastr'].apply(time_to_ms), data['decstr'].apply(time_to_ms)"
   ]
  },
  {
   "cell_type": "code",
   "execution_count": 11,
   "id": "e2f90596-a953-4862-9fd0-32bb3015715a",
   "metadata": {},
   "outputs": [
    {
     "data": {
      "text/plain": [
       "count    5.514000e+03\n",
       "mean     1.688644e+09\n",
       "std      3.047168e+09\n",
       "min     -7.605220e+09\n",
       "25%     -6.095500e+08\n",
       "50%      3.377713e+09\n",
       "75%      3.892490e+09\n",
       "max      7.350775e+09\n",
       "Name: decstr, dtype: float64"
      ]
     },
     "execution_count": 11,
     "metadata": {},
     "output_type": "execute_result"
    }
   ],
   "source": [
    "data['decstr'].describe()"
   ]
  },
  {
   "cell_type": "code",
   "execution_count": 12,
   "id": "ca3013bd-b0e9-4803-85e5-b4af9937c3d4",
   "metadata": {},
   "outputs": [
    {
     "data": {
      "text/plain": [
       "count    5.514000e+03\n",
       "mean     5.994675e+07\n",
       "std      2.172978e+07\n",
       "min      7.680000e+05\n",
       "25%      4.701175e+07\n",
       "50%      7.105200e+07\n",
       "75%      7.376600e+07\n",
       "max      1.073200e+08\n",
       "Name: rastr, dtype: float64"
      ]
     },
     "execution_count": 12,
     "metadata": {},
     "output_type": "execute_result"
    }
   ],
   "source": [
    "data['rastr'].describe()"
   ]
  },
  {
   "cell_type": "markdown",
   "id": "a872dbb0-c61e-4b17-97ed-e51ea3e1d478",
   "metadata": {},
   "source": [
    "### One-hot Encode Columns"
   ]
  },
  {
   "cell_type": "code",
   "execution_count": 13,
   "id": "fd582e2c-53cd-4012-91f2-57adc661d342",
   "metadata": {},
   "outputs": [],
   "source": [
    "one_hot_columns = [\n",
    "    'pl_bmassprov',\n",
    "    'st_spectype',\n",
    "]\n",
    "\n",
    "def encode_columns(df, columns):\n",
    "    encoded = df\n",
    "    for column in columns:\n",
    "        one_hot = pd.get_dummies(df[column])\n",
    "        encoded = encoded.drop(column, axis=1)\n",
    "        encoded = pd.concat([encoded, one_hot.map(lambda x: int(x))], axis=1)\n",
    "    return encoded\n",
    "\n",
    "data = encode_columns(data, one_hot_columns)"
   ]
  },
  {
   "cell_type": "code",
   "execution_count": 14,
   "id": "50a6aee4-c97f-4d7c-91fc-47bd25407bd8",
   "metadata": {},
   "outputs": [],
   "source": [
    "total = 0\n",
    "\n",
    "# slightly naive check to make sure we are properly\n",
    "# one-hot encoding the data\n",
    "for i in range(35, data.shape[1]):\n",
    "    total += data.iloc[0, i]\n",
    "\n",
    "assert total == 1"
   ]
  },
  {
   "cell_type": "markdown",
   "id": "1a1185ed-8a2f-46da-89e1-1b17c4601581",
   "metadata": {},
   "source": [
    "### Fill in Null Values"
   ]
  },
  {
   "cell_type": "code",
   "execution_count": 15,
   "id": "8a98b269-23a7-4fc7-81c3-ac8207043636",
   "metadata": {},
   "outputs": [],
   "source": [
    "for column in data.columns:\n",
    "    data[column] = data[column].fillna(data[column].mean())"
   ]
  },
  {
   "cell_type": "code",
   "execution_count": 16,
   "id": "5a531467-6fcd-4120-ba3c-36f992491914",
   "metadata": {},
   "outputs": [],
   "source": [
    "for column in data.columns:\n",
    "    if data[column].isna().values.any():\n",
    "        print(f'Dataframe has NaN values in column \"{column}\"')"
   ]
  },
  {
   "cell_type": "markdown",
   "id": "19764e0f-c839-47d5-97cb-0015aa6b0008",
   "metadata": {},
   "source": [
    "### Analyze Characteristics"
   ]
  },
  {
   "cell_type": "code",
   "execution_count": 17,
   "id": "401b04dd-689b-418d-b73e-f36b325745cb",
   "metadata": {},
   "outputs": [
    {
     "data": {
      "text/plain": [
       "count    5514.000000\n",
       "mean        1.101378\n",
       "std         0.338671\n",
       "min         1.000000\n",
       "25%         1.000000\n",
       "50%         1.000000\n",
       "75%         1.000000\n",
       "max         4.000000\n",
       "Name: sy_snum, dtype: float64"
      ]
     },
     "execution_count": 17,
     "metadata": {},
     "output_type": "execute_result"
    }
   ],
   "source": [
    "data['sy_snum'].describe()"
   ]
  },
  {
   "cell_type": "code",
   "execution_count": 18,
   "id": "62557692-2229-43ee-a8c8-3200c33c384a",
   "metadata": {},
   "outputs": [
    {
     "data": {
      "text/plain": [
       "sy_snum\n",
       "1    5018\n",
       "2     435\n",
       "3      59\n",
       "4       2\n",
       "Name: count, dtype: int64"
      ]
     },
     "execution_count": 18,
     "metadata": {},
     "output_type": "execute_result"
    }
   ],
   "source": [
    "data['sy_snum'].value_counts()"
   ]
  },
  {
   "cell_type": "markdown",
   "id": "0e64f4a5-31b6-48a2-87f0-b962dde56644",
   "metadata": {},
   "source": [
    "Once again recognizing that we are looking at systems with up to 4 stars.\n",
    "\n",
    "Here's this column's distribution:"
   ]
  },
  {
   "cell_type": "code",
   "execution_count": 19,
   "id": "e6826247-f28f-40eb-ba69-b09002e9f0c1",
   "metadata": {},
   "outputs": [
    {
     "data": {
      "image/png": "[encoded data removed]",
      "text/plain": [
       "<Figure size 640x480 with 1 Axes>"
      ]
     },
     "metadata": {},
     "output_type": "display_data"
    }
   ],
   "source": [
    "data['sy_snum'].plot(kind='kde');"
   ]
  },
  {
   "cell_type": "markdown",
   "id": "5d6fadd3-5478-4531-b5e8-3a6ac36c53e2",
   "metadata": {},
   "source": [
    "Don't need the graph to show this, but the majority of systems have only one star and 4-star systems are incredibly rare.\n",
    "\n",
    "Here's a [related article](https://www.jpl.nasa.gov/news/planet-reared-by-four-parent-stars) from NASA JPL about quadruple star systems.\n",
    "\n",
    "And here's [another interesting case](https://exoplanets.nasa.gov/resources/222/kepler-64b-four-star-planet/).\n",
    "\n",
    "This is definitely one of the more easily interpreted columns in the data. Most of them are very unfamiliar to me, but it's worth exploring a few more."
   ]
  },
  {
   "cell_type": "code",
   "execution_count": 20,
   "id": "22ab2ee4-f696-48e1-8fd8-657862bc5158",
   "metadata": {},
   "outputs": [
    {
     "data": {
      "image/png": "[encoded data removed]",
      "text/plain": [
       "<Figure size 640x480 with 1 Axes>"
      ]
     },
     "metadata": {},
     "output_type": "display_data"
    }
   ],
   "source": [
    "data['sy_pnum'].plot(kind='kde');"
   ]
  },
  {
   "cell_type": "code",
   "execution_count": 21,
   "id": "2439fdb4-776b-42a8-8ee7-633617d2ea25",
   "metadata": {},
   "outputs": [
    {
     "data": {
      "text/plain": [
       "count    5514.00000\n",
       "mean        1.77004\n",
       "std         1.14838\n",
       "min         1.00000\n",
       "25%         1.00000\n",
       "50%         1.00000\n",
       "75%         2.00000\n",
       "max         8.00000\n",
       "Name: sy_pnum, dtype: float64"
      ]
     },
     "execution_count": 21,
     "metadata": {},
     "output_type": "execute_result"
    }
   ],
   "source": [
    "data['sy_pnum'].describe()"
   ]
  },
  {
   "cell_type": "markdown",
   "id": "1e7c346a-1fb8-4ef1-a77d-19ba4f133583",
   "metadata": {},
   "source": [
    "I was definitely not aware this was how planets were distributed. I figured our solar system was pretty average, but I'm surprised to see that ours is kind of an outlier. If it's not clear, this column's values are the number of planets in the planet's solar system. I'm extremely surprised that most solar systems only have a single planet. The average is so heavily skewed towards 1 planet. I wonder if this is partially because it's difficult to detect exoplanets and therefore sometimes we underestimate how many planets are in a solar system."
   ]
  },
  {
   "cell_type": "markdown",
   "id": "348680db-6c2c-4dd6-90aa-3687afbddd8b",
   "metadata": {},
   "source": [
    "### Normalize\n",
    "\n",
    "There are quite a few one-hot-encoded columns, but I think we will have to normalize around 30 of the columns."
   ]
  },
  {
   "cell_type": "code",
   "execution_count": 22,
   "id": "4c9bb283-bf44-4c05-8b7b-b9ab2382c4ca",
   "metadata": {},
   "outputs": [],
   "source": [
    "normalize_columns = [\n",
    "    'sy_snum',\n",
    "    'sy_pnum',\n",
    "    'pl_orblper',\n",
    "    'pl_orbsmax',\n",
    "    'pl_rade',\n",
    "    'pl_radj',\n",
    "    'pl_bmasse',\n",
    "    'pl_bmassj',\n",
    "    'pl_dens',\n",
    "    'pl_orbeccen',\n",
    "    'pl_insol',\n",
    "    'pl_eqt',\n",
    "    'pl_orbincl',\n",
    "    'pl_imppar',\n",
    "    'pl_orbper',\n",
    "    'st_teff',\n",
    "    'st_mass',\n",
    "    'st_lum',\n",
    "    'st_logg',\n",
    "    'rastr',\n",
    "    'ra',\n",
    "    'decstr',\n",
    "    'dec',\n",
    "    'sy_dist',\n",
    "    'sy_vmag',\n",
    "    'sy_kmag',\n",
    "    'sy_gaiamag',\n",
    "    'sy_gaiamagerr1',\n",
    "    'sy_gaiamagerr2',\n",
    "]\n",
    "\n",
    "min_max_scaler = MinMaxScaler()\n",
    "\n",
    "# I think the most explicit approach to normalizing just a set of columns\n",
    "# is to extract those columns, remove them from the original\n",
    "# concat them into a dataframe, normalize that dataframe\n",
    "# then concat these new normalized columns onto the original dataframe\n",
    "\n",
    "normalized_data = data.copy(deep=True)\n",
    "\n",
    "for column in normalize_columns:\n",
    "    normalized_data[column] = min_max_scaler.fit_transform(normalized_data[column].values.reshape(-1, 1))"
   ]
  },
  {
   "cell_type": "code",
   "execution_count": 23,
   "id": "0e6747a9-09d6-4f2d-805a-eb9607b4cea6",
   "metadata": {},
   "outputs": [
    {
     "data": {
      "text/html": [
       "<div>\n",
       "<style scoped>\n",
       "    .dataframe tbody tr th:only-of-type {\n",
       "        vertical-align: middle;\n",
       "    }\n",
       "\n",
       "    .dataframe tbody tr th {\n",
       "        vertical-align: top;\n",
       "    }\n",
       "\n",
       "    .dataframe thead th {\n",
       "        text-align: right;\n",
       "    }\n",
       "</style>\n",
       "<table border=\"1\" class=\"dataframe\">\n",
       "  <thead>\n",
       "    <tr style=\"text-align: right;\">\n",
       "      <th></th>\n",
       "      <th>sy_snum</th>\n",
       "      <th>sy_pnum</th>\n",
       "      <th>pl_orbper</th>\n",
       "      <th>pl_orbsmax</th>\n",
       "      <th>pl_rade</th>\n",
       "      <th>pl_radj</th>\n",
       "      <th>pl_bmasse</th>\n",
       "      <th>pl_bmassj</th>\n",
       "      <th>pl_dens</th>\n",
       "      <th>pl_orbeccen</th>\n",
       "      <th>...</th>\n",
       "      <th>M7.25</th>\n",
       "      <th>M7.5</th>\n",
       "      <th>M8</th>\n",
       "      <th>M8.5</th>\n",
       "      <th>M9</th>\n",
       "      <th>M9-L1</th>\n",
       "      <th>T8.5</th>\n",
       "      <th>WD</th>\n",
       "      <th>m3 V</th>\n",
       "      <th>sdBV</th>\n",
       "    </tr>\n",
       "  </thead>\n",
       "  <tbody>\n",
       "    <tr>\n",
       "      <th>count</th>\n",
       "      <td>5514.000000</td>\n",
       "      <td>5514.000000</td>\n",
       "      <td>5.514000e+03</td>\n",
       "      <td>5514.000000</td>\n",
       "      <td>5514.000000</td>\n",
       "      <td>5514.000000</td>\n",
       "      <td>5514.000000</td>\n",
       "      <td>5514.000000</td>\n",
       "      <td>5514.000000</td>\n",
       "      <td>5514.000000</td>\n",
       "      <td>...</td>\n",
       "      <td>5514.000000</td>\n",
       "      <td>5514.000000</td>\n",
       "      <td>5514.000000</td>\n",
       "      <td>5514.000000</td>\n",
       "      <td>5514.000000</td>\n",
       "      <td>5514.000000</td>\n",
       "      <td>5514.000000</td>\n",
       "      <td>5514.000000</td>\n",
       "      <td>5514.000000</td>\n",
       "      <td>5514.000000</td>\n",
       "    </tr>\n",
       "    <tr>\n",
       "      <th>mean</th>\n",
       "      <td>0.033793</td>\n",
       "      <td>0.110006</td>\n",
       "      <td>2.018421e-04</td>\n",
       "      <td>0.000898</td>\n",
       "      <td>0.069754</td>\n",
       "      <td>0.069625</td>\n",
       "      <td>0.002027</td>\n",
       "      <td>0.002027</td>\n",
       "      <td>0.010438</td>\n",
       "      <td>0.079458</td>\n",
       "      <td>...</td>\n",
       "      <td>0.000181</td>\n",
       "      <td>0.000181</td>\n",
       "      <td>0.000181</td>\n",
       "      <td>0.000181</td>\n",
       "      <td>0.000181</td>\n",
       "      <td>0.000181</td>\n",
       "      <td>0.000181</td>\n",
       "      <td>0.000363</td>\n",
       "      <td>0.000181</td>\n",
       "      <td>0.000181</td>\n",
       "    </tr>\n",
       "    <tr>\n",
       "      <th>std</th>\n",
       "      <td>0.112890</td>\n",
       "      <td>0.164054</td>\n",
       "      <td>1.347310e-02</td>\n",
       "      <td>0.017536</td>\n",
       "      <td>0.069159</td>\n",
       "      <td>0.068858</td>\n",
       "      <td>0.016724</td>\n",
       "      <td>0.016725</td>\n",
       "      <td>0.024217</td>\n",
       "      <td>0.146657</td>\n",
       "      <td>...</td>\n",
       "      <td>0.013467</td>\n",
       "      <td>0.013467</td>\n",
       "      <td>0.013467</td>\n",
       "      <td>0.013467</td>\n",
       "      <td>0.013467</td>\n",
       "      <td>0.013467</td>\n",
       "      <td>0.013467</td>\n",
       "      <td>0.019043</td>\n",
       "      <td>0.013467</td>\n",
       "      <td>0.013467</td>\n",
       "    </tr>\n",
       "    <tr>\n",
       "      <th>min</th>\n",
       "      <td>0.000000</td>\n",
       "      <td>0.000000</td>\n",
       "      <td>0.000000e+00</td>\n",
       "      <td>0.000000</td>\n",
       "      <td>0.000000</td>\n",
       "      <td>0.000000</td>\n",
       "      <td>0.000000</td>\n",
       "      <td>0.000000</td>\n",
       "      <td>0.000000</td>\n",
       "      <td>0.000000</td>\n",
       "      <td>...</td>\n",
       "      <td>0.000000</td>\n",
       "      <td>0.000000</td>\n",
       "      <td>0.000000</td>\n",
       "      <td>0.000000</td>\n",
       "      <td>0.000000</td>\n",
       "      <td>0.000000</td>\n",
       "      <td>0.000000</td>\n",
       "      <td>0.000000</td>\n",
       "      <td>0.000000</td>\n",
       "      <td>0.000000</td>\n",
       "    </tr>\n",
       "    <tr>\n",
       "      <th>25%</th>\n",
       "      <td>0.000000</td>\n",
       "      <td>0.000000</td>\n",
       "      <td>1.130289e-08</td>\n",
       "      <td>0.000007</td>\n",
       "      <td>0.018963</td>\n",
       "      <td>0.019063</td>\n",
       "      <td>0.000017</td>\n",
       "      <td>0.000017</td>\n",
       "      <td>0.003764</td>\n",
       "      <td>0.000000</td>\n",
       "      <td>...</td>\n",
       "      <td>0.000000</td>\n",
       "      <td>0.000000</td>\n",
       "      <td>0.000000</td>\n",
       "      <td>0.000000</td>\n",
       "      <td>0.000000</td>\n",
       "      <td>0.000000</td>\n",
       "      <td>0.000000</td>\n",
       "      <td>0.000000</td>\n",
       "      <td>0.000000</td>\n",
       "      <td>0.000000</td>\n",
       "    </tr>\n",
       "    <tr>\n",
       "      <th>50%</th>\n",
       "      <td>0.000000</td>\n",
       "      <td>0.000000</td>\n",
       "      <td>3.143842e-08</td>\n",
       "      <td>0.000014</td>\n",
       "      <td>0.031987</td>\n",
       "      <td>0.032014</td>\n",
       "      <td>0.000036</td>\n",
       "      <td>0.000036</td>\n",
       "      <td>0.007044</td>\n",
       "      <td>0.000000</td>\n",
       "      <td>...</td>\n",
       "      <td>0.000000</td>\n",
       "      <td>0.000000</td>\n",
       "      <td>0.000000</td>\n",
       "      <td>0.000000</td>\n",
       "      <td>0.000000</td>\n",
       "      <td>0.000000</td>\n",
       "      <td>0.000000</td>\n",
       "      <td>0.000000</td>\n",
       "      <td>0.000000</td>\n",
       "      <td>0.000000</td>\n",
       "    </tr>\n",
       "    <tr>\n",
       "      <th>75%</th>\n",
       "      <td>0.000000</td>\n",
       "      <td>0.142857</td>\n",
       "      <td>1.396207e-07</td>\n",
       "      <td>0.000060</td>\n",
       "      <td>0.148769</td>\n",
       "      <td>0.148647</td>\n",
       "      <td>0.000701</td>\n",
       "      <td>0.000701</td>\n",
       "      <td>0.012152</td>\n",
       "      <td>0.079458</td>\n",
       "      <td>...</td>\n",
       "      <td>0.000000</td>\n",
       "      <td>0.000000</td>\n",
       "      <td>0.000000</td>\n",
       "      <td>0.000000</td>\n",
       "      <td>0.000000</td>\n",
       "      <td>0.000000</td>\n",
       "      <td>0.000000</td>\n",
       "      <td>0.000000</td>\n",
       "      <td>0.000000</td>\n",
       "      <td>0.000000</td>\n",
       "    </tr>\n",
       "    <tr>\n",
       "      <th>max</th>\n",
       "      <td>1.000000</td>\n",
       "      <td>1.000000</td>\n",
       "      <td>1.000000e+00</td>\n",
       "      <td>1.000000</td>\n",
       "      <td>1.000000</td>\n",
       "      <td>1.000000</td>\n",
       "      <td>1.000000</td>\n",
       "      <td>1.000000</td>\n",
       "      <td>1.000000</td>\n",
       "      <td>1.000000</td>\n",
       "      <td>...</td>\n",
       "      <td>1.000000</td>\n",
       "      <td>1.000000</td>\n",
       "      <td>1.000000</td>\n",
       "      <td>1.000000</td>\n",
       "      <td>1.000000</td>\n",
       "      <td>1.000000</td>\n",
       "      <td>1.000000</td>\n",
       "      <td>1.000000</td>\n",
       "      <td>1.000000</td>\n",
       "      <td>1.000000</td>\n",
       "    </tr>\n",
       "  </tbody>\n",
       "</table>\n",
       "<p>8 rows × 320 columns</p>\n",
       "</div>"
      ],
      "text/plain": [
       "           sy_snum      sy_pnum     pl_orbper   pl_orbsmax      pl_rade  \\\n",
       "count  5514.000000  5514.000000  5.514000e+03  5514.000000  5514.000000   \n",
       "mean      0.033793     0.110006  2.018421e-04     0.000898     0.069754   \n",
       "std       0.112890     0.164054  1.347310e-02     0.017536     0.069159   \n",
       "min       0.000000     0.000000  0.000000e+00     0.000000     0.000000   \n",
       "25%       0.000000     0.000000  1.130289e-08     0.000007     0.018963   \n",
       "50%       0.000000     0.000000  3.143842e-08     0.000014     0.031987   \n",
       "75%       0.000000     0.142857  1.396207e-07     0.000060     0.148769   \n",
       "max       1.000000     1.000000  1.000000e+00     1.000000     1.000000   \n",
       "\n",
       "           pl_radj    pl_bmasse    pl_bmassj      pl_dens  pl_orbeccen  ...  \\\n",
       "count  5514.000000  5514.000000  5514.000000  5514.000000  5514.000000  ...   \n",
       "mean      0.069625     0.002027     0.002027     0.010438     0.079458  ...   \n",
       "std       0.068858     0.016724     0.016725     0.024217     0.146657  ...   \n",
       "min       0.000000     0.000000     0.000000     0.000000     0.000000  ...   \n",
       "25%       0.019063     0.000017     0.000017     0.003764     0.000000  ...   \n",
       "50%       0.032014     0.000036     0.000036     0.007044     0.000000  ...   \n",
       "75%       0.148647     0.000701     0.000701     0.012152     0.079458  ...   \n",
       "max       1.000000     1.000000     1.000000     1.000000     1.000000  ...   \n",
       "\n",
       "             M7.25         M7.5           M8         M8.5           M9  \\\n",
       "count  5514.000000  5514.000000  5514.000000  5514.000000  5514.000000   \n",
       "mean      0.000181     0.000181     0.000181     0.000181     0.000181   \n",
       "std       0.013467     0.013467     0.013467     0.013467     0.013467   \n",
       "min       0.000000     0.000000     0.000000     0.000000     0.000000   \n",
       "25%       0.000000     0.000000     0.000000     0.000000     0.000000   \n",
       "50%       0.000000     0.000000     0.000000     0.000000     0.000000   \n",
       "75%       0.000000     0.000000     0.000000     0.000000     0.000000   \n",
       "max       1.000000     1.000000     1.000000     1.000000     1.000000   \n",
       "\n",
       "             M9-L1         T8.5           WD         m3 V         sdBV  \n",
       "count  5514.000000  5514.000000  5514.000000  5514.000000  5514.000000  \n",
       "mean      0.000181     0.000181     0.000363     0.000181     0.000181  \n",
       "std       0.013467     0.013467     0.019043     0.013467     0.013467  \n",
       "min       0.000000     0.000000     0.000000     0.000000     0.000000  \n",
       "25%       0.000000     0.000000     0.000000     0.000000     0.000000  \n",
       "50%       0.000000     0.000000     0.000000     0.000000     0.000000  \n",
       "75%       0.000000     0.000000     0.000000     0.000000     0.000000  \n",
       "max       1.000000     1.000000     1.000000     1.000000     1.000000  \n",
       "\n",
       "[8 rows x 320 columns]"
      ]
     },
     "execution_count": 23,
     "metadata": {},
     "output_type": "execute_result"
    }
   ],
   "source": [
    "normalized_data.describe()"
   ]
  },
  {
   "cell_type": "markdown",
   "id": "e0801baa-1b66-4b3c-84ca-41f0600bc5c2",
   "metadata": {},
   "source": [
    "### K-Means Clustering"
   ]
  },
  {
   "cell_type": "code",
   "execution_count": 24,
   "id": "6c9ebd04-5b55-4106-bca5-c5e4327051a1",
   "metadata": {},
   "outputs": [],
   "source": [
    "# just in case we missed some for some reason\n",
    "na_value = 0.5\n",
    "\n",
    "# convert DataFrame to Numpy array\n",
    "dataset_np = normalized_data.to_numpy(copy=False, na_value=0.5)"
   ]
  },
  {
   "cell_type": "code",
   "execution_count": 110,
   "id": "53548a01-aab2-4ee2-a114-aaf0171f9149",
   "metadata": {},
   "outputs": [
    {
     "data": {
      "image/png": "[encoded data removed]",
      "text/plain": [
       "<Figure size 640x480 with 1 Axes>"
      ]
     },
     "metadata": {},
     "output_type": "display_data"
    }
   ],
   "source": [
    "# standard deviation of noise\n",
    "sigma = 0.05\n",
    "# mean of noise\n",
    "mu = 0.1\n",
    "\n",
    "noise_x = sigma * np.random.randn(len(dataset_np)) + mu\n",
    "noise_y = sigma * np.random.randn(len(dataset_np)) + mu\n",
    "\n",
    "plt.scatter(dataset_np[:,0] + noise_x, dataset_np[:,1] + noise_y, s=2);"
   ]
  },
  {
   "cell_type": "code",
   "execution_count": 112,
   "id": "61666338-6736-48d9-9d2c-5ad1f7054dce",
   "metadata": {},
   "outputs": [],
   "source": [
    "def euclidian_distance(a, b):\n",
    "    return np.linalg.norm(a - b)"
   ]
  },
  {
   "cell_type": "code",
   "execution_count": 130,
   "id": "8d39960b-0514-4e48-ad7a-60ee65cd4820",
   "metadata": {},
   "outputs": [
    {
     "name": "stdout",
     "output_type": "stream",
     "text": [
      "Convergence occured at 3 iterations.\n"
     ]
    }
   ],
   "source": [
    "# set K\n",
    "K = 3\n",
    "similarity_function = euclidian_distance\n",
    "convergence_distance = 0.00001\n",
    "\n",
    "# pick K random points to start\n",
    "indices = np.random.choice(a=list(range(len(dataset_np))), size=K)\n",
    "initial_cluster_centers = np.array([dataset_np[index] for index in indices])\n",
    "\n",
    "# ensure our random selection is working\n",
    "rand_sample = np.random.randint(0, K)\n",
    "rand_feature = np.random.randint(0, dataset_np.shape[1])\n",
    "assert initial_cluster_centers[rand_sample,rand_feature] == dataset_np[indices[rand_sample],rand_feature]\n",
    "\n",
    "cluster_centers = initial_cluster_centers\n",
    "old_cluster_centers = np.zeros(cluster_centers.shape)\n",
    "# until convergence\n",
    "iterations = 0\n",
    "while euclidian_distance(cluster_centers, old_cluster_centers) > convergence_distance:\n",
    "    iterations += 1\n",
    "    clusters = list()\n",
    "    for i in range(K):\n",
    "        clusters.append(list())\n",
    "    \n",
    "    # for each point in the entire dataset\n",
    "    for point in dataset_np[:10]:\n",
    "        # calculate similarity between each cluster center\n",
    "        similarities = np.zeros((K,))\n",
    "        # for each cluster center\n",
    "        for idx, center in enumerate(cluster_centers):\n",
    "            # euclidian distance is the same as L2 norm\n",
    "            similarities[idx] = similarity_function(point, center)\n",
    "    \n",
    "        # get highest similarity index\n",
    "        new_cluster = np.argmax(similarities)\n",
    "    \n",
    "        assert type(new_cluster) == np.int64\n",
    "    \n",
    "        # assign to cluster `new_cluster`\n",
    "        clusters[new_cluster].append(point)\n",
    "    \n",
    "    # calculate new centers\n",
    "    new_cluster_centers = np.array([])\n",
    "    \n",
    "    for cluster in clusters:\n",
    "        # calculate center point\n",
    "        cluster = np.array(cluster)\n",
    "        total = np.zeros((dataset_np.shape[1],))\n",
    "        center = np.array([])\n",
    "        for point in cluster:\n",
    "            total = np.add(total, point)\n",
    "            \n",
    "        center = np.append(center, total / 2)\n",
    "        if new_cluster_centers.size == 0:\n",
    "            new_cluster_centers = center\n",
    "        else:\n",
    "            new_cluster_centers = np.vstack((new_cluster_centers, center))\n",
    "\n",
    "    assert new_cluster_centers.shape == (K, dataset_np.shape[1])\n",
    "    \n",
    "    old_cluster_centers = cluster_centers\n",
    "    cluster_centers = new_cluster_centers\n",
    "\n",
    "print(f\"Convergence occured at {iterations} iterations.\")"
   ]
  }
 ],
 "metadata": {
  "kernelspec": {
   "display_name": "Aquifer",
   "language": "python",
   "name": "aquifer"
  },
  "language_info": {
   "codemirror_mode": {
    "name": "ipython",
    "version": 3
   },
   "file_extension": ".py",
   "mimetype": "text/x-python",
   "name": "python",
   "nbconvert_exporter": "python",
   "pygments_lexer": "ipython3",
   "version": "3.11.6"
  }
 },
 "nbformat": 4,
 "nbformat_minor": 5
}
